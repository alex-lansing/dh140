{
 "cells": [
  {
   "cell_type": "markdown",
   "id": "37d4b016-6d61-4729-8830-362537d98d8d",
   "metadata": {},
   "source": [
    "# Food Data Analysis\n",
    "### Alexandra Lansing\n",
    "Analysis of food data from the U.S. Department of Agriculture's Food Composition Database. This data includes information for various types of foods, including vitamin, mineral, and macronutrient percentages. This data is gathered from https://www.ars.usda.gov/northeast-area/beltsville-md-bhnrc/beltsville-human-nutrition-research-center/food-surveys-research-group/docs/fndds-download-databases/\n",
    "\n",
    "Further description and downloadable files at https://corgis-edu.github.io/corgis/python/food/"
   ]
  },
  {
   "cell_type": "markdown",
   "id": "b0ffcfd6-97d5-4908-a36b-bee2ec8876c8",
   "metadata": {},
   "source": [
    "### Task 1: Read the Datafile"
   ]
  },
  {
   "cell_type": "code",
   "execution_count": 4,
   "id": "edfbac1d-10d7-467d-8cf6-4e91da8fc716",
   "metadata": {},
   "outputs": [],
   "source": [
    "# Task 1: Read the Datafile\n",
    "\n",
    "import food\n",
    "report = food.get_report()"
   ]
  },
  {
   "cell_type": "code",
   "execution_count": 29,
   "id": "2651d9ad-2064-457d-a553-07c761f526b9",
   "metadata": {},
   "outputs": [
    {
     "data": {
      "text/plain": [
       "{'Category': 'Yogurt',\n",
       " 'Description': 'Yogurt, whole milk, plain',\n",
       " 'Nutrient Data Bank Number': 11411100,\n",
       " 'Data': {'Alpha Carotene': 0,\n",
       "  'Beta Carotene': 5,\n",
       "  'Beta Cryptoxanthin': 0,\n",
       "  'Carbohydrate': 4.66,\n",
       "  'Cholesterol': 13,\n",
       "  'Choline': 15.2,\n",
       "  'Fiber': 0.0,\n",
       "  'Lutein and Zeaxanthin': 0,\n",
       "  'Lycopene': 0,\n",
       "  'Niacin': 0.075,\n",
       "  'Protein': 3.47,\n",
       "  'Retinol': 27,\n",
       "  'Riboflavin': 0.142,\n",
       "  'Selenium': 2.2,\n",
       "  'Sugar Total': 4.66,\n",
       "  'Thiamin': 0.029,\n",
       "  'Water': 87.89,\n",
       "  'Fat': {'Monosaturated Fat': 0.893,\n",
       "   'Polysaturated Fat': 0.092,\n",
       "   'Saturated Fat': 2.096,\n",
       "   'Total Lipid': 3.25},\n",
       "  'Major Minerals': {'Calcium': 121,\n",
       "   'Copper': 0.009,\n",
       "   'Iron': 0.05,\n",
       "   'Magnesium': 12,\n",
       "   'Phosphorus': 95,\n",
       "   'Potassium': 155,\n",
       "   'Sodium': 46,\n",
       "   'Zinc': 0.59},\n",
       "  'Vitamins': {'Vitamin A - RAE': 27,\n",
       "   'Vitamin B12': 0.37,\n",
       "   'Vitamin B6': 0.032,\n",
       "   'Vitamin C': 0.5,\n",
       "   'Vitamin E': 0.06,\n",
       "   'Vitamin K': 0.2}}}"
      ]
     },
     "execution_count": 29,
     "metadata": {},
     "output_type": "execute_result"
    }
   ],
   "source": [
    "yogurtDict = report[48]\n",
    "yogurtDict"
   ]
  },
  {
   "cell_type": "code",
   "execution_count": 30,
   "id": "fbc7cdb6-aae6-47f5-84c1-34c203d6a504",
   "metadata": {},
   "outputs": [
    {
     "data": {
      "text/plain": [
       "['Category', 'Description', 'Nutrient Data Bank Number', 'Data']"
      ]
     },
     "execution_count": 30,
     "metadata": {},
     "output_type": "execute_result"
    }
   ],
   "source": [
    "yogurtKeysList = list(yogurtDict)\n",
    "yogurtKeysList"
   ]
  },
  {
   "cell_type": "code",
   "execution_count": 33,
   "id": "a500d177-0ea4-4119-99c9-acc66d587206",
   "metadata": {},
   "outputs": [
    {
     "data": {
      "text/plain": [
       "{'Alpha Carotene': 0,\n",
       " 'Beta Carotene': 5,\n",
       " 'Beta Cryptoxanthin': 0,\n",
       " 'Carbohydrate': 4.66,\n",
       " 'Cholesterol': 13,\n",
       " 'Choline': 15.2,\n",
       " 'Fiber': 0.0,\n",
       " 'Lutein and Zeaxanthin': 0,\n",
       " 'Lycopene': 0,\n",
       " 'Niacin': 0.075,\n",
       " 'Protein': 3.47,\n",
       " 'Retinol': 27,\n",
       " 'Riboflavin': 0.142,\n",
       " 'Selenium': 2.2,\n",
       " 'Sugar Total': 4.66,\n",
       " 'Thiamin': 0.029,\n",
       " 'Water': 87.89,\n",
       " 'Fat': {'Monosaturated Fat': 0.893,\n",
       "  'Polysaturated Fat': 0.092,\n",
       "  'Saturated Fat': 2.096,\n",
       "  'Total Lipid': 3.25},\n",
       " 'Major Minerals': {'Calcium': 121,\n",
       "  'Copper': 0.009,\n",
       "  'Iron': 0.05,\n",
       "  'Magnesium': 12,\n",
       "  'Phosphorus': 95,\n",
       "  'Potassium': 155,\n",
       "  'Sodium': 46,\n",
       "  'Zinc': 0.59},\n",
       " 'Vitamins': {'Vitamin A - RAE': 27,\n",
       "  'Vitamin B12': 0.37,\n",
       "  'Vitamin B6': 0.032,\n",
       "  'Vitamin C': 0.5,\n",
       "  'Vitamin E': 0.06,\n",
       "  'Vitamin K': 0.2}}"
      ]
     },
     "execution_count": 33,
     "metadata": {},
     "output_type": "execute_result"
    }
   ],
   "source": [
    "yogurtNutritionDict = yogurtDict['Data']\n",
    "yogurtNutritionDict"
   ]
  },
  {
   "cell_type": "code",
   "execution_count": 36,
   "id": "0b9ae975-4781-4c7b-b8bb-4fd18e22c82f",
   "metadata": {},
   "outputs": [
    {
     "data": {
      "text/plain": [
       "5"
      ]
     },
     "execution_count": 36,
     "metadata": {},
     "output_type": "execute_result"
    }
   ],
   "source": [
    "# Task 2: Mathematical Operation\n",
    "\n",
    "totalCarotene = yogurtNutritionDict['Alpha Carotene'] + yogurtNutritionDict['Beta Carotene']\n",
    "totalCarotene"
   ]
  },
  {
   "cell_type": "code",
   "execution_count": 37,
   "id": "c1e2510d-7073-4bb3-879d-1cee0332cc7d",
   "metadata": {},
   "outputs": [
    {
     "name": "stdout",
     "output_type": "stream",
     "text": [
      "more carbs than protein\n"
     ]
    }
   ],
   "source": [
    "# Task 3: Conditional Expression\n",
    "\n",
    "carbs = yogurtNutritionDict['Carbohydrate']\n",
    "protein = yogurtNutritionDict['Protein']\n",
    "\n",
    "if carbs > protein:\n",
    "    print(\"more carbs than protein\")\n",
    "elif carbs < protein:\n",
    "    print(\"more protein than carbs\")\n",
    "else:\n",
    "    print(\"equal carbs and protein\")"
   ]
  },
  {
   "cell_type": "code",
   "execution_count": 38,
   "id": "96dec31c-99ed-4333-b728-e61cdc73e437",
   "metadata": {},
   "outputs": [
    {
     "name": "stdout",
     "output_type": "stream",
     "text": [
      "Alpha Carotene\n",
      "Beta Carotene\n",
      "Beta Cryptoxanthin\n",
      "Carbohydrate\n",
      "Cholesterol\n",
      "Choline\n",
      "Fiber\n",
      "Lutein and Zeaxanthin\n",
      "Lycopene\n",
      "Niacin\n",
      "Protein\n",
      "Retinol\n",
      "Riboflavin\n",
      "Selenium\n",
      "Sugar Total\n",
      "Thiamin\n",
      "Water\n",
      "Fat\n",
      "Major Minerals\n",
      "Vitamins\n"
     ]
    }
   ],
   "source": [
    "# Task 4: For Loops\n",
    "\n",
    "for key in yogurtNutritionDict:\n",
    "    print(key)"
   ]
  },
  {
   "cell_type": "code",
   "execution_count": 59,
   "id": "b4d29477-bd3b-4f08-a6be-495eceda805d",
   "metadata": {},
   "outputs": [
    {
     "data": {
      "text/plain": [
       "97"
      ]
     },
     "execution_count": 59,
     "metadata": {},
     "output_type": "execute_result"
    }
   ],
   "source": [
    "# Task 4: For Loop\n",
    "# Task 5: Function\n",
    "\n",
    "def findIndex(lst, key, value):\n",
    "    for i, dict in enumerate(lst):\n",
    "        if dict[key] == value:\n",
    "            return i\n",
    "    return -1\n",
    "\n",
    "findIndex(report, 'Category', 'Chocolate milk')"
   ]
  },
  {
   "cell_type": "code",
   "execution_count": 61,
   "id": "fc1dabc2-cd0d-439a-9b0d-6808abd0e1bf",
   "metadata": {},
   "outputs": [
    {
     "data": {
      "text/plain": [
       "3.47"
      ]
     },
     "execution_count": 61,
     "metadata": {},
     "output_type": "execute_result"
    }
   ],
   "source": [
    "# Task 6: Module\n",
    "\n",
    "import math\n",
    "math.fmod(protein, carbs)"
   ]
  },
  {
   "cell_type": "code",
   "execution_count": null,
   "id": "a4258c2c-720e-4b44-8600-9a2722688d60",
   "metadata": {},
   "outputs": [],
   "source": []
  }
 ],
 "metadata": {
  "kernelspec": {
   "display_name": "Python 3 (ipykernel)",
   "language": "python",
   "name": "python3"
  },
  "language_info": {
   "codemirror_mode": {
    "name": "ipython",
    "version": 3
   },
   "file_extension": ".py",
   "mimetype": "text/x-python",
   "name": "python",
   "nbconvert_exporter": "python",
   "pygments_lexer": "ipython3",
   "version": "3.9.6"
  }
 },
 "nbformat": 4,
 "nbformat_minor": 5
}
