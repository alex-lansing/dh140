{
 "cells": [
  {
   "cell_type": "code",
   "execution_count": 88,
   "id": "89959ab7-6354-4ad2-b49a-5b2e78665c37",
   "metadata": {},
   "outputs": [],
   "source": [
    "import requests\n",
    "import nltk\n",
    "res = requests.get('https://www.gutenberg.org/cache/epub/2264/pg2264.txt')\n",
    "html_page = res.text"
   ]
  },
  {
   "cell_type": "code",
   "execution_count": 89,
   "id": "81c1501f-5a92-42a2-a7dd-51a82d0dcedd",
   "metadata": {},
   "outputs": [],
   "source": [
    "from nltk.tokenize import word_tokenize, sent_tokenize\n",
    "token_txt = sent_tokenize(html_page)\n",
    "words = []\n",
    "for s in token_txt:\n",
    "    for w in word_tokenize(s):\n",
    "        words.append(w)"
   ]
  },
  {
   "cell_type": "code",
   "execution_count": 90,
   "id": "6a86a716-3712-4e70-a19f-b4ede40b1cd2",
   "metadata": {},
   "outputs": [
    {
     "name": "stderr",
     "output_type": "stream",
     "text": [
      "[nltk_data] Downloading package stopwords to /home/jovyan/nltk_data...\n",
      "[nltk_data]   Package stopwords is already up-to-date!\n"
     ]
    }
   ],
   "source": [
    "from nltk.corpus import stopwords\n",
    "from string import punctuation\n",
    "nltk.download('stopwords')\n",
    "myStopWords = list(punctuation) + stopwords.words('english')\n",
    "wordsNoStop = []\n",
    "for i in words:\n",
    "    if i not in myStopWords:\n",
    "        wordsNoStop.append(i)"
   ]
  },
  {
   "cell_type": "code",
   "execution_count": 91,
   "id": "dd3fc01f-2ac9-43c4-b65b-3db7578d3c77",
   "metadata": {},
   "outputs": [],
   "source": [
    "from nltk.stem import WordNetLemmatizer\n",
    "macBethWords = [WordNetLemmatizer().lemmatize(w) for w in wordsNoStop]"
   ]
  },
  {
   "cell_type": "code",
   "execution_count": 92,
   "id": "8ae8af08-299b-439b-802a-3563798cd577",
   "metadata": {},
   "outputs": [],
   "source": [
    "from collections import Counter\n",
    "import pandas as pd\n",
    "df = pd.DataFrame.from_dict(Counter(macBethWords),orient=\"index\").reset_index().rename(columns={'index':'word',0:'count'})\n",
    "dfMean = df['count'].mean()\n",
    "dfMedian = df['count'].median()\n",
    "dfMode = df['count'].mode()"
   ]
  },
  {
   "cell_type": "code",
   "execution_count": 93,
   "id": "f76382f4-add1-409c-830b-4f2ff5405e29",
   "metadata": {},
   "outputs": [
    {
     "name": "stdout",
     "output_type": "stream",
     "text": [
      "Mean = 3.0616468516072213\n"
     ]
    }
   ],
   "source": [
    "print(\"Mean = \" + str(dfMean))"
   ]
  },
  {
   "cell_type": "code",
   "execution_count": 94,
   "id": "bf1a373b-d60c-4c6b-b045-6c52b09b7a46",
   "metadata": {},
   "outputs": [
    {
     "name": "stdout",
     "output_type": "stream",
     "text": [
      "Median = 1.0\n"
     ]
    }
   ],
   "source": [
    "print(\"Median = \" + str(dfMedian))"
   ]
  },
  {
   "cell_type": "code",
   "execution_count": 95,
   "id": "40ca3558-3b56-40cd-b885-991f8e52c460",
   "metadata": {},
   "outputs": [
    {
     "name": "stdout",
     "output_type": "stream",
     "text": [
      "Mode = 1\n"
     ]
    }
   ],
   "source": [
    "print(\"Mode = \" + str(dfMode[0]))"
   ]
  },
  {
   "cell_type": "code",
   "execution_count": 96,
   "id": "5db7c4ed-ea57-431f-b859-a16debd8cf68",
   "metadata": {},
   "outputs": [
    {
     "name": "stdout",
     "output_type": "stream",
     "text": [
      "Trimmed Mean = \n"
     ]
    },
    {
     "data": {
      "text/plain": [
       "1.5594386351128233"
      ]
     },
     "execution_count": 96,
     "metadata": {},
     "output_type": "execute_result"
    }
   ],
   "source": [
    "from scipy import stats\n",
    "print(\"Trimmed Mean = \")\n",
    "stats.trim_mean(df['count'], 0.1)\n",
    "#calculate 10% trimmed mean"
   ]
  },
  {
   "cell_type": "code",
   "execution_count": 99,
   "id": "7cf4fb4b-2cae-44d3-9c80-bb8086561204",
   "metadata": {},
   "outputs": [
    {
     "ename": "NameError",
     "evalue": "name 'red' is not defined",
     "output_type": "error",
     "traceback": [
      "\u001b[0;31m---------------------------------------------------------------------------\u001b[0m",
      "\u001b[0;31mNameError\u001b[0m                                 Traceback (most recent call last)",
      "\u001b[0;32m/tmp/ipykernel_88/2637035593.py\u001b[0m in \u001b[0;36m<module>\u001b[0;34m\u001b[0m\n\u001b[1;32m      1\u001b[0m df['count'].plot(kind='hist',\n\u001b[1;32m      2\u001b[0m                  \u001b[0mbins\u001b[0m\u001b[0;34m=\u001b[0m\u001b[0;36m25\u001b[0m\u001b[0;34m,\u001b[0m\u001b[0;34m\u001b[0m\u001b[0;34m\u001b[0m\u001b[0m\n\u001b[0;32m----> 3\u001b[0;31m                  \u001b[0mcolor\u001b[0m\u001b[0;34m=\u001b[0m \u001b[0mred\u001b[0m\u001b[0;34m,\u001b[0m\u001b[0;34m\u001b[0m\u001b[0;34m\u001b[0m\u001b[0m\n\u001b[0m\u001b[1;32m      4\u001b[0m                  title='Word Frequency in MacBeth')\n",
      "\u001b[0;31mNameError\u001b[0m: name 'red' is not defined"
     ]
    }
   ],
   "source": [
    "df['count'].plot(kind='hist',\n",
    "                 bins=25,\n",
    "                 color= red,\n",
    "                 title='Word Frequency in MacBeth')"
   ]
  },
  {
   "cell_type": "code",
   "execution_count": 98,
   "id": "378ba041-c298-49a6-9369-2c20afdc990d",
   "metadata": {},
   "outputs": [],
   "source": [
    "StD = df['count'].std()\n",
    "Percent25 = df['count'].quantile(0.25)\n",
    "Percent75 = df['count'].quantile(0.75)"
   ]
  },
  {
   "cell_type": "code",
   "execution_count": 30,
   "id": "e0bcdcb3-b2ae-4d86-b73e-a6f8d772db36",
   "metadata": {},
   "outputs": [
    {
     "name": "stdout",
     "output_type": "stream",
     "text": [
      "Standard Deviation = 9.339998576867185\n"
     ]
    }
   ],
   "source": [
    "print(\"Standard Deviation = \" + str(StD))"
   ]
  },
  {
   "cell_type": "code",
   "execution_count": 31,
   "id": "6c1bf317-67da-479d-975a-89367df45211",
   "metadata": {},
   "outputs": [
    {
     "name": "stdout",
     "output_type": "stream",
     "text": [
      "25% Quantile = 1.0\n"
     ]
    }
   ],
   "source": [
    "print(\"25% Quantile = \" + str(Percent25))"
   ]
  },
  {
   "cell_type": "code",
   "execution_count": 33,
   "id": "5b6b1116-d456-4a7e-814f-b9cc8fa49d89",
   "metadata": {},
   "outputs": [
    {
     "name": "stdout",
     "output_type": "stream",
     "text": [
      "75% Quantile = 2.0\n"
     ]
    }
   ],
   "source": [
    "print(\"75% Quantile = \" + str(Percent75))"
   ]
  },
  {
   "cell_type": "code",
   "execution_count": 34,
   "id": "95d0b786-32e0-4732-bd49-32f2add004d5",
   "metadata": {},
   "outputs": [
    {
     "name": "stdout",
     "output_type": "stream",
     "text": [
      "Interquartile Range = 1.0\n"
     ]
    }
   ],
   "source": [
    "print(\"Interquartile Range = \" + str(Percent75-Percent25))"
   ]
  },
  {
   "cell_type": "markdown",
   "id": "1cdd84f5-1b9f-4564-9c9f-d5ff54c463c3",
   "metadata": {},
   "source": [
    "### Comments:\n",
    "A standard deviation of 9 seems to be a reasonable calculation since the data seems to collect in one area but still has range. The histogram seems to be skewed to the left. The data measurements of mean, median, and mode also reflect these quartiles because it seemed as though much of the data lied around 1 and 2, and the interquartile range is at 1, with the 25% quantile at 1 and the 75% quantile at 2."
   ]
  },
  {
   "cell_type": "code",
   "execution_count": 35,
   "id": "59da3a8b-6fb8-42b1-b3c4-ddd184f0f0a2",
   "metadata": {},
   "outputs": [],
   "source": [
    "from sklearn import datasets\n",
    "df = datasets.load_diabetes(as_frame=True) \n",
    "features_df = df.data\n",
    "target_df = df.target"
   ]
  },
  {
   "cell_type": "code",
   "execution_count": 36,
   "id": "9e38c78d-0f11-4a8c-9e2f-1165ba62df8c",
   "metadata": {},
   "outputs": [
    {
     "name": "stdout",
     "output_type": "stream",
     "text": [
      ".. _diabetes_dataset:\n",
      "\n",
      "Diabetes dataset\n",
      "----------------\n",
      "\n",
      "Ten baseline variables, age, sex, body mass index, average blood\n",
      "pressure, and six blood serum measurements were obtained for each of n =\n",
      "442 diabetes patients, as well as the response of interest, a\n",
      "quantitative measure of disease progression one year after baseline.\n",
      "\n",
      "**Data Set Characteristics:**\n",
      "\n",
      "  :Number of Instances: 442\n",
      "\n",
      "  :Number of Attributes: First 10 columns are numeric predictive values\n",
      "\n",
      "  :Target: Column 11 is a quantitative measure of disease progression one year after baseline\n",
      "\n",
      "  :Attribute Information:\n",
      "      - age     age in years\n",
      "      - sex\n",
      "      - bmi     body mass index\n",
      "      - bp      average blood pressure\n",
      "      - s1      tc, total serum cholesterol\n",
      "      - s2      ldl, low-density lipoproteins\n",
      "      - s3      hdl, high-density lipoproteins\n",
      "      - s4      tch, total cholesterol / HDL\n",
      "      - s5      ltg, possibly log of serum triglycerides level\n",
      "      - s6      glu, blood sugar level\n",
      "\n",
      "Note: Each of these 10 feature variables have been mean centered and scaled by the standard deviation times `n_samples` (i.e. the sum of squares of each column totals 1).\n",
      "\n",
      "Source URL:\n",
      "https://www4.stat.ncsu.edu/~boos/var.select/diabetes.html\n",
      "\n",
      "For more information see:\n",
      "Bradley Efron, Trevor Hastie, Iain Johnstone and Robert Tibshirani (2004) \"Least Angle Regression,\" Annals of Statistics (with discussion), 407-499.\n",
      "(https://web.stanford.edu/~hastie/Papers/LARS/LeastAngle_2002.pdf)\n"
     ]
    }
   ],
   "source": [
    "print(df.DESCR)"
   ]
  },
  {
   "cell_type": "code",
   "execution_count": 37,
   "id": "3236d7f2-ead1-4aaa-8be1-2b784fed333d",
   "metadata": {},
   "outputs": [
    {
     "name": "stdout",
     "output_type": "stream",
     "text": [
      "age\n",
      "sex\n",
      "bmi\n",
      "bp\n",
      "s1\n",
      "s2\n",
      "s3\n",
      "s4\n",
      "s5\n",
      "s6\n"
     ]
    }
   ],
   "source": [
    "for c in features_df.columns:\n",
    "    print(c)"
   ]
  },
  {
   "cell_type": "code",
   "execution_count": 38,
   "id": "d6e1aead-5fa2-4118-b4ae-1f69eddc9e72",
   "metadata": {},
   "outputs": [
    {
     "data": {
      "text/plain": [
       "age   -3.634285e-16\n",
       "sex    1.308343e-16\n",
       "bmi   -8.045349e-16\n",
       "bp     1.281655e-16\n",
       "s1    -8.835316e-17\n",
       "s2     1.327024e-16\n",
       "s3    -4.574646e-16\n",
       "s4     3.777301e-16\n",
       "s5    -3.830854e-16\n",
       "s6    -3.412882e-16\n",
       "dtype: float64"
      ]
     },
     "execution_count": 38,
     "metadata": {},
     "output_type": "execute_result"
    }
   ],
   "source": [
    "features_df.mean()"
   ]
  },
  {
   "cell_type": "code",
   "execution_count": 39,
   "id": "1fca0eaf-80d5-4cd7-a0e3-e3fa8fd4f086",
   "metadata": {},
   "outputs": [
    {
     "data": {
      "text/plain": [
       "age    0.005383\n",
       "sex   -0.044642\n",
       "bmi   -0.007284\n",
       "bp    -0.005671\n",
       "s1    -0.004321\n",
       "s2    -0.003819\n",
       "s3    -0.006584\n",
       "s4    -0.002592\n",
       "s5    -0.001948\n",
       "s6    -0.001078\n",
       "dtype: float64"
      ]
     },
     "execution_count": 39,
     "metadata": {},
     "output_type": "execute_result"
    }
   ],
   "source": [
    "features_df.median()"
   ]
  },
  {
   "cell_type": "code",
   "execution_count": 40,
   "id": "30438da1-df22-40f1-b2c4-95380521dfc0",
   "metadata": {},
   "outputs": [
    {
     "data": {
      "text/html": [
       "<div>\n",
       "<style scoped>\n",
       "    .dataframe tbody tr th:only-of-type {\n",
       "        vertical-align: middle;\n",
       "    }\n",
       "\n",
       "    .dataframe tbody tr th {\n",
       "        vertical-align: top;\n",
       "    }\n",
       "\n",
       "    .dataframe thead th {\n",
       "        text-align: right;\n",
       "    }\n",
       "</style>\n",
       "<table border=\"1\" class=\"dataframe\">\n",
       "  <thead>\n",
       "    <tr style=\"text-align: right;\">\n",
       "      <th></th>\n",
       "      <th>age</th>\n",
       "      <th>sex</th>\n",
       "      <th>bmi</th>\n",
       "      <th>bp</th>\n",
       "      <th>s1</th>\n",
       "      <th>s2</th>\n",
       "      <th>s3</th>\n",
       "      <th>s4</th>\n",
       "      <th>s5</th>\n",
       "      <th>s6</th>\n",
       "    </tr>\n",
       "  </thead>\n",
       "  <tbody>\n",
       "    <tr>\n",
       "      <th>0</th>\n",
       "      <td>0.016281</td>\n",
       "      <td>-0.044642</td>\n",
       "      <td>-0.030996</td>\n",
       "      <td>-0.040099</td>\n",
       "      <td>-0.037344</td>\n",
       "      <td>-0.001001</td>\n",
       "      <td>-0.013948</td>\n",
       "      <td>-0.039493</td>\n",
       "      <td>-0.018118</td>\n",
       "      <td>0.003064</td>\n",
       "    </tr>\n",
       "    <tr>\n",
       "      <th>1</th>\n",
       "      <td>NaN</td>\n",
       "      <td>NaN</td>\n",
       "      <td>-0.024529</td>\n",
       "      <td>-0.005671</td>\n",
       "      <td>-0.007073</td>\n",
       "      <td>0.016222</td>\n",
       "      <td>NaN</td>\n",
       "      <td>NaN</td>\n",
       "      <td>NaN</td>\n",
       "      <td>NaN</td>\n",
       "    </tr>\n",
       "  </tbody>\n",
       "</table>\n",
       "</div>"
      ],
      "text/plain": [
       "        age       sex       bmi        bp        s1        s2        s3  \\\n",
       "0  0.016281 -0.044642 -0.030996 -0.040099 -0.037344 -0.001001 -0.013948   \n",
       "1       NaN       NaN -0.024529 -0.005671 -0.007073  0.016222       NaN   \n",
       "\n",
       "         s4        s5        s6  \n",
       "0 -0.039493 -0.018118  0.003064  \n",
       "1       NaN       NaN       NaN  "
      ]
     },
     "execution_count": 40,
     "metadata": {},
     "output_type": "execute_result"
    }
   ],
   "source": [
    "features_df.mode()"
   ]
  },
  {
   "cell_type": "code",
   "execution_count": 41,
   "id": "b2452b79-a8ef-4e76-8299-ffce0c5e2ead",
   "metadata": {},
   "outputs": [
    {
     "name": "stdout",
     "output_type": "stream",
     "text": [
      "column: age\n",
      "[[1.         0.18788875]\n",
      " [0.18788875 1.        ]]\n",
      "column: sex\n",
      "[[1.       0.043062]\n",
      " [0.043062 1.      ]]\n",
      "column: bmi\n",
      "[[1.         0.58645013]\n",
      " [0.58645013 1.        ]]\n",
      "column: bp\n",
      "[[1.         0.44148385]\n",
      " [0.44148385 1.        ]]\n",
      "column: s1\n",
      "[[1.         0.21202248]\n",
      " [0.21202248 1.        ]]\n",
      "column: s2\n",
      "[[1.         0.17405359]\n",
      " [0.17405359 1.        ]]\n",
      "column: s3\n",
      "[[ 1.         -0.39478925]\n",
      " [-0.39478925  1.        ]]\n",
      "column: s4\n",
      "[[1.         0.43045288]\n",
      " [0.43045288 1.        ]]\n",
      "column: s5\n",
      "[[1.         0.56588343]\n",
      " [0.56588343 1.        ]]\n",
      "column: s6\n",
      "[[1.         0.38248348]\n",
      " [0.38248348 1.        ]]\n"
     ]
    }
   ],
   "source": [
    "# find highest correlation coefficient\n",
    "import numpy as np\n",
    "for c in features_df.columns:\n",
    "    print(\"column: \" + c)\n",
    "    print(np.corrcoef(features_df[c],target_df))"
   ]
  },
  {
   "cell_type": "code",
   "execution_count": 42,
   "id": "07bcd00f-cf9d-4ccf-a4e2-040cbe9d9ec3",
   "metadata": {},
   "outputs": [],
   "source": [
    "#bmi appears to have highest correlation coefficient"
   ]
  },
  {
   "cell_type": "code",
   "execution_count": 70,
   "id": "fc48c7f9-943d-422a-8c3b-78dbb773b945",
   "metadata": {},
   "outputs": [
    {
     "data": {
      "text/plain": [
       "<AxesSubplot:title={'center':'BMI vs Targets'}, xlabel='bmi', ylabel='targets'>"
      ]
     },
     "execution_count": 70,
     "metadata": {},
     "output_type": "execute_result"
    },
    {
     "data": {
      "image/png": "[encoded data removed]",
      "text/plain": [
       "<Figure size 432x288 with 1 Axes>"
      ]
     },
     "metadata": {
      "needs_background": "light"
     },
     "output_type": "display_data"
    }
   ],
   "source": [
    "bmiDF = pd.DataFrame(data = {'targets':df.target,'bmi':df.data['bmi']})\n",
    "bmiDF.plot(kind='scatter',\n",
    "             x='bmi',\n",
    "             y='targets',\n",
    "             title=\"BMI vs Targets\")"
   ]
  },
  {
   "cell_type": "code",
   "execution_count": 71,
   "id": "bbe3acb0-ec03-41ed-9dd2-0c22b665236c",
   "metadata": {},
   "outputs": [],
   "source": [
    "from sklearn.linear_model import LinearRegression\n",
    "bmiLi = bmiDF[['bmi']]\n",
    "targetLi = bmiDF['targets']\n",
    "reg = LinearRegression().fit(bmiLi,targetLi)"
   ]
  },
  {
   "cell_type": "code",
   "execution_count": 79,
   "id": "ad59d60d-0927-4fd6-b0dc-410467ea31ef",
   "metadata": {},
   "outputs": [
    {
     "name": "stdout",
     "output_type": "stream",
     "text": [
      "[949.43526038]\n"
     ]
    }
   ],
   "source": [
    "print(reg.coef_)"
   ]
  },
  {
   "cell_type": "code",
   "execution_count": 80,
   "id": "8dafe048-f98b-40fb-a096-adb0a1281c2c",
   "metadata": {},
   "outputs": [
    {
     "data": {
      "text/plain": [
       "[<matplotlib.lines.Line2D at 0x7f19ab9ca9a0>,\n",
       " <matplotlib.lines.Line2D at 0x7f19ab9caa90>]"
      ]
     },
     "execution_count": 80,
     "metadata": {},
     "output_type": "execute_result"
    },
    {
     "data": {
      "image/png": "[encoded data removed]",
      "text/plain": [
       "<Figure size 432x288 with 1 Axes>"
      ]
     },
     "metadata": {
      "needs_background": "light"
     },
     "output_type": "display_data"
    }
   ],
   "source": [
    "import matplotlib.pyplot as plt\n",
    "y_train = reg.intercept_ + reg.coef_*bmiLi\n",
    "plt.plot(bmiLi,targetLi,'co',bmiLi,y_train,'red')"
   ]
  },
  {
   "cell_type": "code",
   "execution_count": 81,
   "id": "8f7b01b0-f110-416f-8b22-5a88f6ba30c7",
   "metadata": {},
   "outputs": [],
   "source": [
    "from sklearn.linear_model import LinearRegression\n",
    "from sklearn.metrics import mean_squared_error, r2_score"
   ]
  },
  {
   "cell_type": "code",
   "execution_count": 82,
   "id": "1cab9667-eb38-404d-ba0f-024db1922a8a",
   "metadata": {},
   "outputs": [
    {
     "data": {
      "text/plain": [
       "3890.4565854612724"
      ]
     },
     "execution_count": 82,
     "metadata": {},
     "output_type": "execute_result"
    }
   ],
   "source": [
    "mean_squared_error(targetLi,y_train)"
   ]
  },
  {
   "cell_type": "code",
   "execution_count": 83,
   "id": "a4fa0316-4ffa-41a2-a07e-88a28a499f49",
   "metadata": {},
   "outputs": [
    {
     "data": {
      "text/plain": [
       "0.3439237602253803"
      ]
     },
     "execution_count": 83,
     "metadata": {},
     "output_type": "execute_result"
    }
   ],
   "source": [
    "r2_score(targetLi, y_train)"
   ]
  },
  {
   "cell_type": "code",
   "execution_count": 84,
   "id": "24d5b0bc-8f61-41f4-8629-f2f1d313f1f9",
   "metadata": {},
   "outputs": [],
   "source": [
    "bpDF = pd.DataFrame(data= {\"bp\":df.data['bp'],\"targets\":df.target})\n",
    "bpLi = bpDF[['bp']]\n",
    "Lreg = LinearRegression().fit(bpLi,targetLi)\n",
    "new_y_train = Lreg.intercept_ + Lreg.coef_*bpLi"
   ]
  },
  {
   "cell_type": "code",
   "execution_count": 85,
   "id": "2b86c065-66e2-4905-ab04-bdf88f7111e2",
   "metadata": {},
   "outputs": [
    {
     "data": {
      "text/plain": [
       "4774.1029574417935"
      ]
     },
     "execution_count": 85,
     "metadata": {},
     "output_type": "execute_result"
    }
   ],
   "source": [
    "mean_squared_error(targetLi,new_y_train)"
   ]
  },
  {
   "cell_type": "code",
   "execution_count": 86,
   "id": "b315ca56-264e-4fe3-84a8-00d117f11e5f",
   "metadata": {},
   "outputs": [
    {
     "data": {
      "text/plain": [
       "0.19490798886682947"
      ]
     },
     "execution_count": 86,
     "metadata": {},
     "output_type": "execute_result"
    }
   ],
   "source": [
    "r2_score(targetLi,new_y_train)"
   ]
  },
  {
   "cell_type": "markdown",
   "id": "b813f8ba-24a7-4496-98cd-94f004e4aa6c",
   "metadata": {},
   "source": [
    "### Comments:\n",
    "Comparing the Blood Pressure DataFrame to the BMI DataFrame showed interesting results. It seemed that the mean square error increased by about 900 and the r2 score decreased by almost half."
   ]
  },
  {
   "cell_type": "code",
   "execution_count": null,
   "id": "82f442e0-1653-4db4-9e39-8b993cffac97",
   "metadata": {},
   "outputs": [],
   "source": []
  }
 ],
 "metadata": {
  "kernelspec": {
   "display_name": "Python 3 (ipykernel)",
   "language": "python",
   "name": "python3"
  },
  "language_info": {
   "codemirror_mode": {
    "name": "ipython",
    "version": 3
   },
   "file_extension": ".py",
   "mimetype": "text/x-python",
   "name": "python",
   "nbconvert_exporter": "python",
   "pygments_lexer": "ipython3",
   "version": "3.9.6"
  }
 },
 "nbformat": 4,
 "nbformat_minor": 5
}
