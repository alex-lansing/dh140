{
 "cells": [
  {
   "cell_type": "code",
   "execution_count": 35,
   "id": "cee14407-458e-4086-8ee8-d328d10b4168",
   "metadata": {},
   "outputs": [],
   "source": [
    "import requests\n",
    "res = requests.get('https://www.gutenberg.org/cache/epub/2264/pg2264.html')\n",
    "html_page = res.content"
   ]
  },
  {
   "cell_type": "code",
   "execution_count": 38,
   "id": "49d2d732-b137-4a7d-be12-84729dfbc440",
   "metadata": {},
   "outputs": [],
   "source": [
    "from bs4 import BeautifulSoup\n",
    "macBeth = BeautifulSoup(html_page, 'html.parser')\n",
    "macBethText = macBeth.find_all(text=True)"
   ]
  },
  {
   "cell_type": "code",
   "execution_count": 40,
   "id": "65ddaabd-5745-4813-8fae-4ead190e88d4",
   "metadata": {},
   "outputs": [
    {
     "ename": "TypeError",
     "evalue": "expected string or bytes-like object",
     "output_type": "error",
     "traceback": [
      "\u001b[0;31m---------------------------------------------------------------------------\u001b[0m",
      "\u001b[0;31mTypeError\u001b[0m                                 Traceback (most recent call last)",
      "\u001b[0;32m/tmp/ipykernel_717/4276969678.py\u001b[0m in \u001b[0;36m<module>\u001b[0;34m\u001b[0m\n\u001b[1;32m      1\u001b[0m \u001b[0;32mfrom\u001b[0m \u001b[0mnltk\u001b[0m\u001b[0;34m.\u001b[0m\u001b[0mtokenize\u001b[0m \u001b[0;32mimport\u001b[0m \u001b[0mword_tokenize\u001b[0m\u001b[0;34m,\u001b[0m \u001b[0msent_tokenize\u001b[0m\u001b[0;34m\u001b[0m\u001b[0;34m\u001b[0m\u001b[0m\n\u001b[0;32m----> 2\u001b[0;31m \u001b[0msent\u001b[0m \u001b[0;34m=\u001b[0m \u001b[0msent_tokenize\u001b[0m\u001b[0;34m(\u001b[0m\u001b[0mmacBethText\u001b[0m\u001b[0;34m)\u001b[0m\u001b[0;34m\u001b[0m\u001b[0;34m\u001b[0m\u001b[0m\n\u001b[0m",
      "\u001b[0;32m/opt/conda/lib/python3.9/site-packages/nltk/tokenize/__init__.py\u001b[0m in \u001b[0;36msent_tokenize\u001b[0;34m(text, language)\u001b[0m\n\u001b[1;32m    105\u001b[0m     \"\"\"\n\u001b[1;32m    106\u001b[0m     \u001b[0mtokenizer\u001b[0m \u001b[0;34m=\u001b[0m \u001b[0mload\u001b[0m\u001b[0;34m(\u001b[0m\u001b[0;34mf\"tokenizers/punkt/{language}.pickle\"\u001b[0m\u001b[0;34m)\u001b[0m\u001b[0;34m\u001b[0m\u001b[0;34m\u001b[0m\u001b[0m\n\u001b[0;32m--> 107\u001b[0;31m     \u001b[0;32mreturn\u001b[0m \u001b[0mtokenizer\u001b[0m\u001b[0;34m.\u001b[0m\u001b[0mtokenize\u001b[0m\u001b[0;34m(\u001b[0m\u001b[0mtext\u001b[0m\u001b[0;34m)\u001b[0m\u001b[0;34m\u001b[0m\u001b[0;34m\u001b[0m\u001b[0m\n\u001b[0m\u001b[1;32m    108\u001b[0m \u001b[0;34m\u001b[0m\u001b[0m\n\u001b[1;32m    109\u001b[0m \u001b[0;34m\u001b[0m\u001b[0m\n",
      "\u001b[0;32m/opt/conda/lib/python3.9/site-packages/nltk/tokenize/punkt.py\u001b[0m in \u001b[0;36mtokenize\u001b[0;34m(self, text, realign_boundaries)\u001b[0m\n\u001b[1;32m   1275\u001b[0m         \u001b[0mGiven\u001b[0m \u001b[0ma\u001b[0m \u001b[0mtext\u001b[0m\u001b[0;34m,\u001b[0m \u001b[0mreturns\u001b[0m \u001b[0ma\u001b[0m \u001b[0mlist\u001b[0m \u001b[0mof\u001b[0m \u001b[0mthe\u001b[0m \u001b[0msentences\u001b[0m \u001b[0;32min\u001b[0m \u001b[0mthat\u001b[0m \u001b[0mtext\u001b[0m\u001b[0;34m.\u001b[0m\u001b[0;34m\u001b[0m\u001b[0;34m\u001b[0m\u001b[0m\n\u001b[1;32m   1276\u001b[0m         \"\"\"\n\u001b[0;32m-> 1277\u001b[0;31m         \u001b[0;32mreturn\u001b[0m \u001b[0mlist\u001b[0m\u001b[0;34m(\u001b[0m\u001b[0mself\u001b[0m\u001b[0;34m.\u001b[0m\u001b[0msentences_from_text\u001b[0m\u001b[0;34m(\u001b[0m\u001b[0mtext\u001b[0m\u001b[0;34m,\u001b[0m \u001b[0mrealign_boundaries\u001b[0m\u001b[0;34m)\u001b[0m\u001b[0;34m)\u001b[0m\u001b[0;34m\u001b[0m\u001b[0;34m\u001b[0m\u001b[0m\n\u001b[0m\u001b[1;32m   1278\u001b[0m \u001b[0;34m\u001b[0m\u001b[0m\n\u001b[1;32m   1279\u001b[0m     \u001b[0;32mdef\u001b[0m \u001b[0mdebug_decisions\u001b[0m\u001b[0;34m(\u001b[0m\u001b[0mself\u001b[0m\u001b[0;34m,\u001b[0m \u001b[0mtext\u001b[0m\u001b[0;34m)\u001b[0m\u001b[0;34m:\u001b[0m\u001b[0;34m\u001b[0m\u001b[0;34m\u001b[0m\u001b[0m\n",
      "\u001b[0;32m/opt/conda/lib/python3.9/site-packages/nltk/tokenize/punkt.py\u001b[0m in \u001b[0;36msentences_from_text\u001b[0;34m(self, text, realign_boundaries)\u001b[0m\n\u001b[1;32m   1332\u001b[0m         \u001b[0mfollows\u001b[0m \u001b[0mthe\u001b[0m \u001b[0mperiod\u001b[0m\u001b[0;34m.\u001b[0m\u001b[0;34m\u001b[0m\u001b[0;34m\u001b[0m\u001b[0m\n\u001b[1;32m   1333\u001b[0m         \"\"\"\n\u001b[0;32m-> 1334\u001b[0;31m         \u001b[0;32mreturn\u001b[0m \u001b[0;34m[\u001b[0m\u001b[0mtext\u001b[0m\u001b[0;34m[\u001b[0m\u001b[0ms\u001b[0m\u001b[0;34m:\u001b[0m\u001b[0me\u001b[0m\u001b[0;34m]\u001b[0m \u001b[0;32mfor\u001b[0m \u001b[0ms\u001b[0m\u001b[0;34m,\u001b[0m \u001b[0me\u001b[0m \u001b[0;32min\u001b[0m \u001b[0mself\u001b[0m\u001b[0;34m.\u001b[0m\u001b[0mspan_tokenize\u001b[0m\u001b[0;34m(\u001b[0m\u001b[0mtext\u001b[0m\u001b[0;34m,\u001b[0m \u001b[0mrealign_boundaries\u001b[0m\u001b[0;34m)\u001b[0m\u001b[0;34m]\u001b[0m\u001b[0;34m\u001b[0m\u001b[0;34m\u001b[0m\u001b[0m\n\u001b[0m\u001b[1;32m   1335\u001b[0m \u001b[0;34m\u001b[0m\u001b[0m\n\u001b[1;32m   1336\u001b[0m     \u001b[0;32mdef\u001b[0m \u001b[0m_slices_from_text\u001b[0m\u001b[0;34m(\u001b[0m\u001b[0mself\u001b[0m\u001b[0;34m,\u001b[0m \u001b[0mtext\u001b[0m\u001b[0;34m)\u001b[0m\u001b[0;34m:\u001b[0m\u001b[0;34m\u001b[0m\u001b[0;34m\u001b[0m\u001b[0m\n",
      "\u001b[0;32m/opt/conda/lib/python3.9/site-packages/nltk/tokenize/punkt.py\u001b[0m in \u001b[0;36m<listcomp>\u001b[0;34m(.0)\u001b[0m\n\u001b[1;32m   1332\u001b[0m         \u001b[0mfollows\u001b[0m \u001b[0mthe\u001b[0m \u001b[0mperiod\u001b[0m\u001b[0;34m.\u001b[0m\u001b[0;34m\u001b[0m\u001b[0;34m\u001b[0m\u001b[0m\n\u001b[1;32m   1333\u001b[0m         \"\"\"\n\u001b[0;32m-> 1334\u001b[0;31m         \u001b[0;32mreturn\u001b[0m \u001b[0;34m[\u001b[0m\u001b[0mtext\u001b[0m\u001b[0;34m[\u001b[0m\u001b[0ms\u001b[0m\u001b[0;34m:\u001b[0m\u001b[0me\u001b[0m\u001b[0;34m]\u001b[0m \u001b[0;32mfor\u001b[0m \u001b[0ms\u001b[0m\u001b[0;34m,\u001b[0m \u001b[0me\u001b[0m \u001b[0;32min\u001b[0m \u001b[0mself\u001b[0m\u001b[0;34m.\u001b[0m\u001b[0mspan_tokenize\u001b[0m\u001b[0;34m(\u001b[0m\u001b[0mtext\u001b[0m\u001b[0;34m,\u001b[0m \u001b[0mrealign_boundaries\u001b[0m\u001b[0;34m)\u001b[0m\u001b[0;34m]\u001b[0m\u001b[0;34m\u001b[0m\u001b[0;34m\u001b[0m\u001b[0m\n\u001b[0m\u001b[1;32m   1335\u001b[0m \u001b[0;34m\u001b[0m\u001b[0m\n\u001b[1;32m   1336\u001b[0m     \u001b[0;32mdef\u001b[0m \u001b[0m_slices_from_text\u001b[0m\u001b[0;34m(\u001b[0m\u001b[0mself\u001b[0m\u001b[0;34m,\u001b[0m \u001b[0mtext\u001b[0m\u001b[0;34m)\u001b[0m\u001b[0;34m:\u001b[0m\u001b[0;34m\u001b[0m\u001b[0;34m\u001b[0m\u001b[0m\n",
      "\u001b[0;32m/opt/conda/lib/python3.9/site-packages/nltk/tokenize/punkt.py\u001b[0m in \u001b[0;36mspan_tokenize\u001b[0;34m(self, text, realign_boundaries)\u001b[0m\n\u001b[1;32m   1322\u001b[0m         \u001b[0;32mif\u001b[0m \u001b[0mrealign_boundaries\u001b[0m\u001b[0;34m:\u001b[0m\u001b[0;34m\u001b[0m\u001b[0;34m\u001b[0m\u001b[0m\n\u001b[1;32m   1323\u001b[0m             \u001b[0mslices\u001b[0m \u001b[0;34m=\u001b[0m \u001b[0mself\u001b[0m\u001b[0;34m.\u001b[0m\u001b[0m_realign_boundaries\u001b[0m\u001b[0;34m(\u001b[0m\u001b[0mtext\u001b[0m\u001b[0;34m,\u001b[0m \u001b[0mslices\u001b[0m\u001b[0;34m)\u001b[0m\u001b[0;34m\u001b[0m\u001b[0;34m\u001b[0m\u001b[0m\n\u001b[0;32m-> 1324\u001b[0;31m         \u001b[0;32mfor\u001b[0m \u001b[0msentence\u001b[0m \u001b[0;32min\u001b[0m \u001b[0mslices\u001b[0m\u001b[0;34m:\u001b[0m\u001b[0;34m\u001b[0m\u001b[0;34m\u001b[0m\u001b[0m\n\u001b[0m\u001b[1;32m   1325\u001b[0m             \u001b[0;32myield\u001b[0m \u001b[0;34m(\u001b[0m\u001b[0msentence\u001b[0m\u001b[0;34m.\u001b[0m\u001b[0mstart\u001b[0m\u001b[0;34m,\u001b[0m \u001b[0msentence\u001b[0m\u001b[0;34m.\u001b[0m\u001b[0mstop\u001b[0m\u001b[0;34m)\u001b[0m\u001b[0;34m\u001b[0m\u001b[0;34m\u001b[0m\u001b[0m\n\u001b[1;32m   1326\u001b[0m \u001b[0;34m\u001b[0m\u001b[0m\n",
      "\u001b[0;32m/opt/conda/lib/python3.9/site-packages/nltk/tokenize/punkt.py\u001b[0m in \u001b[0;36m_realign_boundaries\u001b[0;34m(self, text, slices)\u001b[0m\n\u001b[1;32m   1363\u001b[0m         \"\"\"\n\u001b[1;32m   1364\u001b[0m         \u001b[0mrealign\u001b[0m \u001b[0;34m=\u001b[0m \u001b[0;36m0\u001b[0m\u001b[0;34m\u001b[0m\u001b[0;34m\u001b[0m\u001b[0m\n\u001b[0;32m-> 1365\u001b[0;31m         \u001b[0;32mfor\u001b[0m \u001b[0msentence1\u001b[0m\u001b[0;34m,\u001b[0m \u001b[0msentence2\u001b[0m \u001b[0;32min\u001b[0m \u001b[0m_pair_iter\u001b[0m\u001b[0;34m(\u001b[0m\u001b[0mslices\u001b[0m\u001b[0;34m)\u001b[0m\u001b[0;34m:\u001b[0m\u001b[0;34m\u001b[0m\u001b[0;34m\u001b[0m\u001b[0m\n\u001b[0m\u001b[1;32m   1366\u001b[0m             \u001b[0msentence1\u001b[0m \u001b[0;34m=\u001b[0m \u001b[0mslice\u001b[0m\u001b[0;34m(\u001b[0m\u001b[0msentence1\u001b[0m\u001b[0;34m.\u001b[0m\u001b[0mstart\u001b[0m \u001b[0;34m+\u001b[0m \u001b[0mrealign\u001b[0m\u001b[0;34m,\u001b[0m \u001b[0msentence1\u001b[0m\u001b[0;34m.\u001b[0m\u001b[0mstop\u001b[0m\u001b[0;34m)\u001b[0m\u001b[0;34m\u001b[0m\u001b[0;34m\u001b[0m\u001b[0m\n\u001b[1;32m   1367\u001b[0m             \u001b[0;32mif\u001b[0m \u001b[0;32mnot\u001b[0m \u001b[0msentence2\u001b[0m\u001b[0;34m:\u001b[0m\u001b[0;34m\u001b[0m\u001b[0;34m\u001b[0m\u001b[0m\n",
      "\u001b[0;32m/opt/conda/lib/python3.9/site-packages/nltk/tokenize/punkt.py\u001b[0m in \u001b[0;36m_pair_iter\u001b[0;34m(iterator)\u001b[0m\n\u001b[1;32m    317\u001b[0m     \u001b[0miterator\u001b[0m \u001b[0;34m=\u001b[0m \u001b[0miter\u001b[0m\u001b[0;34m(\u001b[0m\u001b[0miterator\u001b[0m\u001b[0;34m)\u001b[0m\u001b[0;34m\u001b[0m\u001b[0;34m\u001b[0m\u001b[0m\n\u001b[1;32m    318\u001b[0m     \u001b[0;32mtry\u001b[0m\u001b[0;34m:\u001b[0m\u001b[0;34m\u001b[0m\u001b[0;34m\u001b[0m\u001b[0m\n\u001b[0;32m--> 319\u001b[0;31m         \u001b[0mprev\u001b[0m \u001b[0;34m=\u001b[0m \u001b[0mnext\u001b[0m\u001b[0;34m(\u001b[0m\u001b[0miterator\u001b[0m\u001b[0;34m)\u001b[0m\u001b[0;34m\u001b[0m\u001b[0;34m\u001b[0m\u001b[0m\n\u001b[0m\u001b[1;32m    320\u001b[0m     \u001b[0;32mexcept\u001b[0m \u001b[0mStopIteration\u001b[0m\u001b[0;34m:\u001b[0m\u001b[0;34m\u001b[0m\u001b[0;34m\u001b[0m\u001b[0m\n\u001b[1;32m    321\u001b[0m         \u001b[0;32mreturn\u001b[0m\u001b[0;34m\u001b[0m\u001b[0;34m\u001b[0m\u001b[0m\n",
      "\u001b[0;32m/opt/conda/lib/python3.9/site-packages/nltk/tokenize/punkt.py\u001b[0m in \u001b[0;36m_slices_from_text\u001b[0;34m(self, text)\u001b[0m\n\u001b[1;32m   1336\u001b[0m     \u001b[0;32mdef\u001b[0m \u001b[0m_slices_from_text\u001b[0m\u001b[0;34m(\u001b[0m\u001b[0mself\u001b[0m\u001b[0;34m,\u001b[0m \u001b[0mtext\u001b[0m\u001b[0;34m)\u001b[0m\u001b[0;34m:\u001b[0m\u001b[0;34m\u001b[0m\u001b[0;34m\u001b[0m\u001b[0m\n\u001b[1;32m   1337\u001b[0m         \u001b[0mlast_break\u001b[0m \u001b[0;34m=\u001b[0m \u001b[0;36m0\u001b[0m\u001b[0;34m\u001b[0m\u001b[0;34m\u001b[0m\u001b[0m\n\u001b[0;32m-> 1338\u001b[0;31m         \u001b[0;32mfor\u001b[0m \u001b[0mmatch\u001b[0m \u001b[0;32min\u001b[0m \u001b[0mself\u001b[0m\u001b[0;34m.\u001b[0m\u001b[0m_lang_vars\u001b[0m\u001b[0;34m.\u001b[0m\u001b[0mperiod_context_re\u001b[0m\u001b[0;34m(\u001b[0m\u001b[0;34m)\u001b[0m\u001b[0;34m.\u001b[0m\u001b[0mfinditer\u001b[0m\u001b[0;34m(\u001b[0m\u001b[0mtext\u001b[0m\u001b[0;34m)\u001b[0m\u001b[0;34m:\u001b[0m\u001b[0;34m\u001b[0m\u001b[0;34m\u001b[0m\u001b[0m\n\u001b[0m\u001b[1;32m   1339\u001b[0m             \u001b[0mcontext\u001b[0m \u001b[0;34m=\u001b[0m \u001b[0mmatch\u001b[0m\u001b[0;34m.\u001b[0m\u001b[0mgroup\u001b[0m\u001b[0;34m(\u001b[0m\u001b[0;34m)\u001b[0m \u001b[0;34m+\u001b[0m \u001b[0mmatch\u001b[0m\u001b[0;34m.\u001b[0m\u001b[0mgroup\u001b[0m\u001b[0;34m(\u001b[0m\u001b[0;34m\"after_tok\"\u001b[0m\u001b[0;34m)\u001b[0m\u001b[0;34m\u001b[0m\u001b[0;34m\u001b[0m\u001b[0m\n\u001b[1;32m   1340\u001b[0m             \u001b[0;32mif\u001b[0m \u001b[0mself\u001b[0m\u001b[0;34m.\u001b[0m\u001b[0mtext_contains_sentbreak\u001b[0m\u001b[0;34m(\u001b[0m\u001b[0mcontext\u001b[0m\u001b[0;34m)\u001b[0m\u001b[0;34m:\u001b[0m\u001b[0;34m\u001b[0m\u001b[0;34m\u001b[0m\u001b[0m\n",
      "\u001b[0;31mTypeError\u001b[0m: expected string or bytes-like object"
     ]
    }
   ],
   "source": [
    "from nltk.tokenize import word_tokenize, sent_tokenize\n",
    "sent = sent_tokenize(macBethText)"
   ]
  },
  {
   "cell_type": "code",
   "execution_count": 11,
   "id": "dd758691-8feb-477f-96d7-dbdd84760554",
   "metadata": {},
   "outputs": [],
   "source": [
    "review1 = \"The balance of flavors in the sushi must be experienced for yourself. The rice preparation was so complementary to the expertly sliced sushi. Each piece deserves its special moment. To really appreciate the quality with each bite, take your time and let the flavors express themselves completely. Service was excellent and so was the salmon skin salad.\"\n",
    "review2 = \"The rolls here are named after celebrities and their bastard children. Which means that there are a lot of damn rolls. So much so it makes my head spin. Food is really very good-- Solid high end sushi. I just don't want to give away my first born to eat here. My suggestion: Come here when you know someone else is picking up the tab. Like your boss. Or that friend who fucked you over and owes you one.  Most of the lunch crowd consists of the have and have nots. Those who have expense accounts. And who can blame them?\"\n",
    "review3 = \"I want to like that place, because I live near by , but all the time disappointed , Quality not good for this price at all\"\n",
    "review4 = \"Great place to come and have proper sushi here in LA by Santa Monica. I've been coming here since 2010 when I was at UCLA. The food is great and the ambiance is really nice. I love how they enforce COVID safety guidelines. This place is tucked away inside a shopping strip mall and is very cozy. I highly recommend coming here you will not regret it. I have attached pictures of some of the rolls that I usually get. Service is also great and have great recommendations.\"\n",
    "review5 = \"I used to love this place for omakase and frequent a lot, but my recent experience was bad. They substituted all the good nigiri - uni, ikura and toro for cheaper white fish while the price has gone up almost 30%. Disappointing and will take it off my favorite restaurant list.\"\n",
    "review6 = \"Exploring the area and stumbled upon this little sushi spot. Small space, not currently seating at the sushi bar. Great service. Fish tasted fresh. Omakase option was great and priced well for the multiple courses, even came with dessert.\"\n",
    "review7 = \"The quality of sushi at this place is quite frankly not worth the price point. I do not mind spending money at all for good quality sushi or food for that matter. The sushi rice was a bit hard and underwhelming, it lacked that subtle sweetness and vinegar aftertaste. The yellowtail we ordered was tough (was maybe frozen for too long), the expected star of toro was unfortunately too stringy/chewy, and the regular maguro tuna was paper thin. We were hoping to try their uni but it was gone by then.\"\n",
    "review8 = \"Completely overpriced for this quality. 1 star for the friendly server. Would never come again.\"\n",
    "review9 = \"Did the omasake tasting same as a year and a half ago and honestly I'm sad to say the quality of the fish has definitely gone down. The presentation and artistry of the actual rolls and sashimi was still there but I feel that for that price the fish we were offered could've felt fresher; particularly the sashimi. I'm a bit of a sushi / sashimi snob so I'm used to paying high prices for high quality fish that literally feels like it melts in your mouth. Although the salmon was great I feel the tuna was definitely not the freshes and the albacore was fine but also not the best. The crispy rice here was delicious and the only non omasake dish we ordered. The nigiri in the omasake were overall good but at least two of the fish pieces were not the freshest quality and the crab salad surprisingly turned out to be one of my favorite dishes of the night as it was very high quality fresh ingredients\"\n",
    "review10 = \"Can't wait to return when you get your Iwashi (sardine) back :)\"\n",
    "review11 = \"I was brought here after watching a ton of Sushi review videos on YouTube and I gotta say, this place lives up to the hype! I suggest anyone to go search YouTube for this restaurant for a more comprehensive review, just know that I agree with them 100%! This place is amazing!\"\n",
    "review12 = \"Deducted 3 star for portion, and taste was just so so. Maybe I was wrong, should've have look through Yelp review before ordering.\"\n",
    "review13 = \"A bunch of my co workers went pre-covid last year to dine in and they said it was amazing. So I went today to get takeout. I got the regular omakase which was $40 for takeout prior to tax. It was very convenient for curbside pick up. They bring your order to your car. I ordered via Postmates for pick up which only took 15 minutes which was really weird because you would think you can just do it via Tock but it was sold out on Tock -it was only selling for next day. Half of my sushi was pretty good the other half of them and Gary's was just so veiny and there was like one type of sashimi which was very hard to chew, I'm not sure if it's an octopus or not but if it is then I guess I understand but it was still like really rubbery. The salad was okay. The experience was kind of underwhelming because I didn't expect veins in my nigiri. Maybe dining in is better? They have patio seating if you make reservations.\"\n",
    "review14 = \"I use to eat here on weekly basis about 10 years ago, and stopped by yesterday after many years of absence...I wasn't impressed at all: the fish I've ordered were not the freshest, the Shishito peppers had a lemony white sauce drizzled on it which was not very good. Even the desert did not feel right to me. Overall: Disappointing.\"\n",
    "review15 = \"Solid place for an affordable omakase in the Westwood area. Don't expect the piece by piece experience and there is currently no bar seating (due to covid). However, the quality of the fish was great and the service was very attentive.\""
   ]
  },
  {
   "cell_type": "code",
   "execution_count": 12,
   "id": "ef7e5eca-b64e-4282-8885-162927723665",
   "metadata": {},
   "outputs": [
    {
     "name": "stderr",
     "output_type": "stream",
     "text": [
      "[nltk_data] Downloading package vader_lexicon to\n",
      "[nltk_data]     /home/jovyan/nltk_data...\n",
      "[nltk_data]   Package vader_lexicon is already up-to-date!\n"
     ]
    },
    {
     "data": {
      "text/plain": [
       "True"
      ]
     },
     "execution_count": 12,
     "metadata": {},
     "output_type": "execute_result"
    }
   ],
   "source": [
    "import nltk\n",
    "from nltk.sentiment import vader\n",
    "nltk.download('vader_lexicon')"
   ]
  },
  {
   "cell_type": "code",
   "execution_count": 13,
   "id": "d134f6b9-9f22-4b5e-9879-1cfda44275a8",
   "metadata": {},
   "outputs": [
    {
     "data": {
      "text/plain": [
       "{'neg': 0.0, 'neu': 0.848, 'pos': 0.152, 'compound': 0.8643}"
      ]
     },
     "execution_count": 13,
     "metadata": {},
     "output_type": "execute_result"
    }
   ],
   "source": [
    "sia = vader.SentimentIntensityAnalyzer()\n",
    "\n",
    "sia.polarity_scores(review1)"
   ]
  },
  {
   "cell_type": "code",
   "execution_count": 14,
   "id": "7d831073-5ffd-49c6-a06c-c9e4231d25e2",
   "metadata": {},
   "outputs": [
    {
     "data": {
      "text/plain": [
       "{'neg': 0.126, 'neu': 0.805, 'pos': 0.069, 'compound': -0.7491}"
      ]
     },
     "execution_count": 14,
     "metadata": {},
     "output_type": "execute_result"
    }
   ],
   "source": [
    "sia.polarity_scores(review2)"
   ]
  },
  {
   "cell_type": "code",
   "execution_count": 15,
   "id": "a40e2636-dab3-4cf3-847c-61c9606828af",
   "metadata": {},
   "outputs": [
    {
     "data": {
      "text/plain": [
       "{'neg': 0.258, 'neu': 0.639, 'pos': 0.103, 'compound': -0.7476}"
      ]
     },
     "execution_count": 15,
     "metadata": {},
     "output_type": "execute_result"
    }
   ],
   "source": [
    "sia.polarity_scores(review3)"
   ]
  },
  {
   "cell_type": "code",
   "execution_count": 16,
   "id": "2e441bca-5bfc-4746-8f41-a24619ee2050",
   "metadata": {},
   "outputs": [
    {
     "data": {
      "text/plain": [
       "{'neg': 0.0, 'neu': 0.694, 'pos': 0.306, 'compound': 0.9863}"
      ]
     },
     "execution_count": 16,
     "metadata": {},
     "output_type": "execute_result"
    }
   ],
   "source": [
    "sia.polarity_scores(review4)"
   ]
  },
  {
   "cell_type": "code",
   "execution_count": 17,
   "id": "9d5ff1b5-7378-4d37-88a1-1f18143fc9c2",
   "metadata": {},
   "outputs": [
    {
     "data": {
      "text/plain": [
       "{'neg': 0.139, 'neu': 0.693, 'pos': 0.168, 'compound': 0.2065}"
      ]
     },
     "execution_count": 17,
     "metadata": {},
     "output_type": "execute_result"
    }
   ],
   "source": [
    "sia.polarity_scores(review5)"
   ]
  },
  {
   "cell_type": "code",
   "execution_count": 18,
   "id": "35d851b5-b4e6-41ca-80c6-5ce0646af639",
   "metadata": {},
   "outputs": [
    {
     "data": {
      "text/plain": [
       "{'neg': 0.0, 'neu': 0.735, 'pos': 0.265, 'compound': 0.9118}"
      ]
     },
     "execution_count": 18,
     "metadata": {},
     "output_type": "execute_result"
    }
   ],
   "source": [
    "sia.polarity_scores(review6)"
   ]
  },
  {
   "cell_type": "code",
   "execution_count": 19,
   "id": "e30b58f5-8752-4fe8-a1d1-ce54ee09aa72",
   "metadata": {},
   "outputs": [
    {
     "data": {
      "text/plain": [
       "{'neg': 0.06, 'neu': 0.865, 'pos': 0.075, 'compound': 0.3368}"
      ]
     },
     "execution_count": 19,
     "metadata": {},
     "output_type": "execute_result"
    }
   ],
   "source": [
    "sia.polarity_scores(review7)"
   ]
  },
  {
   "cell_type": "code",
   "execution_count": 20,
   "id": "5c16b687-054c-4d93-8b1c-5f83847369c0",
   "metadata": {},
   "outputs": [
    {
     "data": {
      "text/plain": [
       "{'neg': 0.0, 'neu': 0.802, 'pos': 0.198, 'compound': 0.4939}"
      ]
     },
     "execution_count": 20,
     "metadata": {},
     "output_type": "execute_result"
    }
   ],
   "source": [
    "sia.polarity_scores(review8)"
   ]
  },
  {
   "cell_type": "code",
   "execution_count": 21,
   "id": "bd62e225-22d9-4f52-8c70-84783913248c",
   "metadata": {},
   "outputs": [
    {
     "data": {
      "text/plain": [
       "{'neg': 0.054, 'neu': 0.757, 'pos': 0.189, 'compound': 0.9797}"
      ]
     },
     "execution_count": 21,
     "metadata": {},
     "output_type": "execute_result"
    }
   ],
   "source": [
    "sia.polarity_scores(review9)"
   ]
  },
  {
   "cell_type": "code",
   "execution_count": 22,
   "id": "514e7e1f-08c8-43de-a6d2-0bf51f317884",
   "metadata": {},
   "outputs": [
    {
     "data": {
      "text/plain": [
       "{'neg': 0.0, 'neu': 0.786, 'pos': 0.214, 'compound': 0.4588}"
      ]
     },
     "execution_count": 22,
     "metadata": {},
     "output_type": "execute_result"
    }
   ],
   "source": [
    "sia.polarity_scores(review10)"
   ]
  },
  {
   "cell_type": "code",
   "execution_count": 23,
   "id": "2032985f-6fe8-4886-9e6b-1d5d435eca82",
   "metadata": {},
   "outputs": [
    {
     "data": {
      "text/plain": [
       "{'neg': 0.0, 'neu': 0.82, 'pos': 0.18, 'compound': 0.858}"
      ]
     },
     "execution_count": 23,
     "metadata": {},
     "output_type": "execute_result"
    }
   ],
   "source": [
    "sia.polarity_scores(review11)"
   ]
  },
  {
   "cell_type": "code",
   "execution_count": 24,
   "id": "43123096-8ad6-46b3-938f-963959e3553a",
   "metadata": {},
   "outputs": [
    {
     "data": {
      "text/plain": [
       "{'neg': 0.144, 'neu': 0.856, 'pos': 0.0, 'compound': -0.5209}"
      ]
     },
     "execution_count": 24,
     "metadata": {},
     "output_type": "execute_result"
    }
   ],
   "source": [
    "sia.polarity_scores(review12)"
   ]
  },
  {
   "cell_type": "code",
   "execution_count": 25,
   "id": "a9a1e636-8fd8-4e6f-b7f1-6c57f79e13b2",
   "metadata": {},
   "outputs": [
    {
     "data": {
      "text/plain": [
       "{'neg': 0.031, 'neu': 0.85, 'pos': 0.119, 'compound': 0.96}"
      ]
     },
     "execution_count": 25,
     "metadata": {},
     "output_type": "execute_result"
    }
   ],
   "source": [
    "sia.polarity_scores(review13)"
   ]
  },
  {
   "cell_type": "code",
   "execution_count": 26,
   "id": "c1b8e53d-8bc4-4333-bc51-5c523178ae59",
   "metadata": {},
   "outputs": [
    {
     "data": {
      "text/plain": [
       "{'neg': 0.16, 'neu': 0.84, 'pos': 0.0, 'compound': -0.851}"
      ]
     },
     "execution_count": 26,
     "metadata": {},
     "output_type": "execute_result"
    }
   ],
   "source": [
    "sia.polarity_scores(review14)"
   ]
  },
  {
   "cell_type": "code",
   "execution_count": 27,
   "id": "978bde8a-07ae-45a6-b078-8aba62aa4265",
   "metadata": {},
   "outputs": [
    {
     "data": {
      "text/plain": [
       "{'neg': 0.048, 'neu': 0.828, 'pos': 0.124, 'compound': 0.5423}"
      ]
     },
     "execution_count": 27,
     "metadata": {},
     "output_type": "execute_result"
    }
   ],
   "source": [
    "sia.polarity_scores(review15)"
   ]
  },
  {
   "cell_type": "code",
   "execution_count": 28,
   "id": "66b6a45f-12c3-4b4d-a604-a01e372e627b",
   "metadata": {},
   "outputs": [],
   "source": [
    "comedyrev1 = \"Wow!! I still to these days love this movie!! It has a great choice of cast, and a strong storyline. Zach Gal, Ed Helms, Bradley Cooper, and Ken Jong are funny in The Hangover!!\"\n",
    "comedyrev2 = \"As much as I love 'Austin Powers: International Man Of Mystery', 'The Hangover' is my favorite comedy movie. The performances are great and the plot is fresh. It's totally unpredictable what could happen to them next, which makes a movie a good movie.\"\n",
    "comedyrev3 = \"One of this films biggest strengths is it's script and the way it's characters pull the dialogue off the page. And they do so in a way that is so consistently funny and entertaining. Without these actors in the roles that they're applied to, this movie might not work as well but everyone (especially Zach Galifana\"\n",
    "comedyrev4 = \"This movie is very funny from beginning to end.  From the very beginning when they picked up their dentist friend with - 'Paging Dr. Fagot' to the very end when their lost camera appears with those random photos, which include gambling with Wayne Newton and doing lines with Carrot Top.\"\n",
    "comedyrev5 = \"The plot of this movie is ridiculously hilarious that you will definitely think this movie is totally crazy and awesome. I cannot explain how this movie is, there isn't a word for it in the English language except crazy, ridiculous and hilarious. The jokes are definitely hilarious (most of them).\"\n",
    "\n",
    "dramarev1 = \"I think it’s great. The script writing, even though is not exactly parallel to the novel, still conveys the same writing style that Chuck wrote in, that being a very poetic and a peculiarly descriptive way. I love each role and each actor that fills those roles, I think Edward Norton and Brad Pitt did a phenomenal job in showing both the narrator’s weaker sensitive side and his bold and masculine side in such contrasting ways which eventually blend together.\"\n",
    "dramarev2 = \"The movie is about a psychotic insomaniac who has no peace in his life and looking for his sleep in crying himself out. One day, on his flight he meet Tyler Dursun, a soap salesman who lives his life to the fullest. Next day, the protagonist finds out his appartment in blown up condition and happens to call Tyler for a stay for few days.\"\n",
    "dramarev3 = \"A unique film. A must watch !! Fight Club is one of the most unique films I have ever seen.\"\n",
    "dramarev4 = \"Amazing...The director played with the minds of the viewers in a beautiful manner.It was as if I am watching Inception part 2 ...\"\n",
    "dramarev5 = \"So first rule of Fight Club is you do not talk about fight club. But I apologize Tyler I have to break the very first rule to pass over your ideas. So Love Hurts.\"\n",
    "\n",
    "reviewList = [comedyrev1, comedyrev2, comedyrev3, comedyrev4, comedyrev5, dramarev1, dramarev2, dramarev3, dramarev4, dramarev5]\n",
    "\n"
   ]
  },
  {
   "cell_type": "code",
   "execution_count": null,
   "id": "2f80d62f-3194-448e-b0e3-e7e70662c8f6",
   "metadata": {},
   "outputs": [],
   "source": []
  }
 ],
 "metadata": {
  "kernelspec": {
   "display_name": "Python 3 (ipykernel)",
   "language": "python",
   "name": "python3"
  },
  "language_info": {
   "codemirror_mode": {
    "name": "ipython",
    "version": 3
   },
   "file_extension": ".py",
   "mimetype": "text/x-python",
   "name": "python",
   "nbconvert_exporter": "python",
   "pygments_lexer": "ipython3",
   "version": "3.9.6"
  }
 },
 "nbformat": 4,
 "nbformat_minor": 5
}
